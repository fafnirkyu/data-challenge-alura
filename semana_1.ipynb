{
  "cells": [
    {
      "cell_type": "markdown",
      "metadata": {
        "id": "view-in-github",
        "colab_type": "text"
      },
      "source": [
        "<a href=\"https://colab.research.google.com/github/fafnirkyu/data-challenge-alura/blob/Semana-1/semana_1.ipynb\" target=\"_parent\"><img src=\"https://colab.research.google.com/assets/colab-badge.svg\" alt=\"Open In Colab\"/></a>"
      ]
    },
    {
      "cell_type": "markdown",
      "metadata": {
        "id": "zcg2J7PF8323"
      },
      "source": [
        "### ---------------------------------------------------Semana 1-------------------------------------------------------"
      ]
    },
    {
      "cell_type": "code",
      "execution_count": null,
      "metadata": {
        "colab": {
          "base_uri": "https://localhost:8080/"
        },
        "id": "ArT2qykylowf",
        "outputId": "42ae35cd-da32-41db-9073-ea395e3ab161"
      },
      "outputs": [
        {
          "output_type": "stream",
          "name": "stdout",
          "text": [
            "Mounted at /content/drive\n"
          ]
        }
      ],
      "source": [
        "from google.colab import drive\n",
        "drive.mount('/content/drive')"
      ]
    },
    {
      "cell_type": "markdown",
      "metadata": {
        "id": "xI4glRTh8324"
      },
      "source": [
        "Limpeza dos dados"
      ]
    },
    {
      "cell_type": "code",
      "execution_count": null,
      "metadata": {
        "id": "T-PglXVC8326"
      },
      "outputs": [],
      "source": [
        "!pip install pyspark==3.3.1"
      ]
    },
    {
      "cell_type": "code",
      "execution_count": null,
      "metadata": {
        "id": "2_g3YJF88326"
      },
      "outputs": [],
      "source": [
        "import pyspark\n",
        "import pandas as pd\n",
        "from pyspark.sql import SparkSession\n",
        "from pyspark.sql.functions import *\n",
        "from pyspark.sql.types import IntegerType, StringType, DoubleType, StructField\n",
        "\n",
        "spark = SparkSession.builder \\\n",
        "    .master('local[*]') \\\n",
        "    .appName(\"Iniciando com Spark\") \\\n",
        "    .config('spark.ui.port', '4050')\\\n",
        "    .getOrCreate()"
      ]
    },
    {
      "cell_type": "code",
      "execution_count": null,
      "metadata": {
        "id": "k6k6KLyWBIdi"
      },
      "outputs": [],
      "source": [
        "!wget 'https://caelum-online-public.s3.amazonaws.com/challenge-spark/semana-1.zip' && unzip semana-1.zip "
      ]
    },
    {
      "cell_type": "code",
      "execution_count": null,
      "metadata": {
        "id": "0fVTar6P8327"
      },
      "outputs": [],
      "source": [
        "dados = spark.read.json('/content/dataset_bruto.json')\n",
        "dados.printSchema()\n"
      ]
    },
    {
      "cell_type": "code",
      "execution_count": null,
      "metadata": {
        "id": "4jUjaMJr8327"
      },
      "outputs": [],
      "source": [
        "dados.limit(5).toPandas()"
      ]
    },
    {
      "cell_type": "code",
      "execution_count": null,
      "metadata": {
        "id": "S4c3C7n78327"
      },
      "outputs": [],
      "source": [
        "dadosanuncio = dados.select(\"anuncio.*\").select(\"id\",\"andar\",\"quartos\", \"suites\",\"area_total\",\"area_util\",\"banheiros\",\"caracteristicas\",\"endereco.*\", \"tipo_anuncio\"\n",
        ",\"tipo_unidade\",\"tipo_uso\", \"vaga\", \"valores.condominio\", \"valores.iptu\", \"valores.tipo\", \"valores.valor\")"
      ]
    },
    {
      "cell_type": "code",
      "execution_count": null,
      "metadata": {
        "id": "U0WAGgMp8328"
      },
      "outputs": [],
      "source": [
        "dadosanuncio = dadosanuncio.where(dadosanuncio.tipo_uso=='Residencial').where(dadosanuncio.tipo_unidade=='Apartamento').where(dadosanuncio.tipo_anuncio=='Usado')"
      ]
    },
    {
      "cell_type": "markdown",
      "metadata": {
        "id": "qHtyuja08329"
      },
      "source": [
        "antes do filtro 89083\n",
        "depois do filtro 66562"
      ]
    },
    {
      "cell_type": "code",
      "execution_count": null,
      "metadata": {
        "id": "8R0NptUc8329"
      },
      "outputs": [],
      "source": [
        "dadosanuncio.limit(5).toPandas()"
      ]
    },
    {
      "cell_type": "code",
      "execution_count": null,
      "metadata": {
        "id": "6mOO-ubd832-"
      },
      "outputs": [],
      "source": [
        "from pyspark.sql import functions as f"
      ]
    },
    {
      "cell_type": "code",
      "execution_count": null,
      "metadata": {
        "id": "7Rv3Crbn832-"
      },
      "outputs": [],
      "source": [
        "from pyspark.sql.types import DoubleType, StringType,IntegerType, LongType, ArrayType\n",
        "dadosanuncio.printSchema()\n",
        "\n"
      ]
    },
    {
      "cell_type": "code",
      "execution_count": null,
      "metadata": {
        "id": "LNDylww_832-"
      },
      "outputs": [],
      "source": [
        "\n",
        "dados = dadosanuncio.withColumn('quartos', dadosanuncio['quartos'][0])\\\n",
        ".withColumn('suites', dadosanuncio['suites'][0])\\\n",
        ".withColumn('area_total', dadosanuncio['area_total'][0])\\\n",
        ".withColumn('area_util', dadosanuncio['area_util'][0])\\\n",
        ".withColumn('banheiros', dadosanuncio['banheiros'][0])\\\n",
        ".withColumn('vaga', dadosanuncio['vaga'][0])\\\n",
        ".withColumn('condominio', dadosanuncio['condominio'][0])\\\n",
        ".withColumn('iptu', dadosanuncio['iptu'][0])\\\n",
        ".withColumn('tipo', dadosanuncio['tipo'][0])\\\n",
        ".withColumn('valor', dadosanuncio['valor'][0])"
      ]
    },
    {
      "cell_type": "code",
      "execution_count": null,
      "metadata": {
        "id": "ugEcpyWk832_"
      },
      "outputs": [],
      "source": [
        "dados.toPandas()"
      ]
    },
    {
      "cell_type": "code",
      "execution_count": null,
      "metadata": {
        "id": "yTI7dX5T832_"
      },
      "outputs": [],
      "source": [
        "dados.printSchema()"
      ]
    },
    {
      "cell_type": "code",
      "execution_count": null,
      "metadata": {
        "id": "O2555PXE832_"
      },
      "outputs": [],
      "source": [
        "#Nesse contexto, transforme os dados das colunas \n",
        "#\"quartos\", \"suites\", \"banheiros\", \"vaga\", \"area_total\" e \"area_util\" de listas para inteiros.\n",
        "dados = dados.withColumn('quartos', dados['quartos'].cast(IntegerType()))\\\n",
        "    .withColumn('suites', dados['suites'].cast(IntegerType()))\\\n",
        "    .withColumn('banheiros', dados['banheiros'].cast(IntegerType()))\\\n",
        "    .withColumn('vaga', dados['vaga'].cast(IntegerType()))\\\n",
        "    .withColumn('area_total', dados['area_total'].cast(IntegerType()))\\\n",
        "    .withColumn('area_util', dados['area_util'].cast(IntegerType()))"
      ]
    },
    {
      "cell_type": "code",
      "execution_count": null,
      "metadata": {
        "id": "jRODtqzG833A"
      },
      "outputs": [],
      "source": [
        "dados.printSchema()"
      ]
    },
    {
      "cell_type": "code",
      "execution_count": null,
      "metadata": {
        "id": "K6hUKVVf833A"
      },
      "outputs": [],
      "source": [
        "#transformar apenas as informações sobre bairro e zona em colunas de nosso DataFrame.\n",
        "dados = dados.drop(\"cidade\", \"estado\", \"latitude\", \"longitude\", \"pais\", \"rua\", \"cep\")\n",
        "dados.toPandas()"
      ]
    },
    {
      "cell_type": "code",
      "execution_count": null,
      "metadata": {
        "id": "FghiDeRu833B"
      },
      "outputs": [],
      "source": [
        "dados = dados.filter('tipo == \"Venda\"')\n",
        "dados.toPandas()\n"
      ]
    },
    {
      "cell_type": "code",
      "execution_count": null,
      "metadata": {
        "id": "cl-VE7St833B"
      },
      "outputs": [],
      "source": [
        "dados.write.parquet('/content/drive/MyDrive/dadossemana1', mode='overwrite')"
      ]
    }
  ],
  "metadata": {
    "colab": {
      "provenance": [],
      "include_colab_link": true
    },
    "kernelspec": {
      "display_name": "Python 3.10.4 ('alura_pandas')",
      "language": "python",
      "name": "python3"
    },
    "language_info": {
      "codemirror_mode": {
        "name": "ipython",
        "version": 3
      },
      "file_extension": ".py",
      "mimetype": "text/x-python",
      "name": "python",
      "nbconvert_exporter": "python",
      "pygments_lexer": "ipython3",
      "version": "3.10.4"
    },
    "vscode": {
      "interpreter": {
        "hash": "cc25764565693f4510cf982fe1b9e6a6e9c2e5ed54d2a5002f3632aa61eac7d7"
      }
    }
  },
  "nbformat": 4,
  "nbformat_minor": 0
}