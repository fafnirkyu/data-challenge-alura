{
  "cells": [
    {
      "cell_type": "markdown",
      "metadata": {
        "id": "view-in-github",
        "colab_type": "text"
      },
      "source": [
        "<a href=\"https://colab.research.google.com/github/fafnirkyu/data-challenge-alura/blob/main/Semana_2_data_sciece.ipynb\" target=\"_parent\"><img src=\"https://colab.research.google.com/assets/colab-badge.svg\" alt=\"Open In Colab\"/></a>"
      ]
    },
    {
      "cell_type": "code",
      "source": [
        "from google.colab import drive\n",
        "drive.mount('/content/drive')"
      ],
      "metadata": {
        "colab": {
          "base_uri": "https://localhost:8080/"
        },
        "id": "nJoy8JJGVxLM",
        "outputId": "ba26ca5f-4b19-46e5-e0a2-df7ee49ea25e"
      },
      "execution_count": 1,
      "outputs": [
        {
          "output_type": "stream",
          "name": "stdout",
          "text": [
            "Drive already mounted at /content/drive; to attempt to forcibly remount, call drive.mount(\"/content/drive\", force_remount=True).\n"
          ]
        }
      ]
    },
    {
      "cell_type": "code",
      "execution_count": 2,
      "metadata": {
        "colab": {
          "base_uri": "https://localhost:8080/"
        },
        "id": "T-PglXVC8326",
        "outputId": "0cf7c3b4-3696-4f44-f577-186cb109c258"
      },
      "outputs": [
        {
          "output_type": "stream",
          "name": "stdout",
          "text": [
            "Looking in indexes: https://pypi.org/simple, https://us-python.pkg.dev/colab-wheels/public/simple/\n",
            "Requirement already satisfied: pyspark==3.3.1 in /usr/local/lib/python3.8/dist-packages (3.3.1)\n",
            "Requirement already satisfied: py4j==0.10.9.5 in /usr/local/lib/python3.8/dist-packages (from pyspark==3.3.1) (0.10.9.5)\n"
          ]
        }
      ],
      "source": [
        "!pip install pyspark==3.3.1"
      ]
    },
    {
      "cell_type": "code",
      "execution_count": 3,
      "metadata": {
        "id": "2_g3YJF88326"
      },
      "outputs": [],
      "source": [
        "import pyspark\n",
        "import pandas as pd\n",
        "from pyspark.sql import SparkSession\n",
        "from pyspark.sql.functions import *\n",
        "from pyspark.sql.types import IntegerType, StringType, DoubleType, StructField\n",
        "\n",
        "spark = SparkSession.builder \\\n",
        "    .master('local[*]') \\\n",
        "    .appName(\"Iniciando com Spark\") \\\n",
        "    .config('spark.ui.port', '4050')\\\n",
        "    .getOrCreate()"
      ]
    },
    {
      "cell_type": "code",
      "source": [
        "dados = spark.read.parquet('/content/drive/MyDrive/dadossemana1')"
      ],
      "metadata": {
        "id": "Tp8JiAVCCECV"
      },
      "execution_count": 4,
      "outputs": []
    },
    {
      "cell_type": "markdown",
      "source": [
        "Contando nulos nas colunas area_total e area_util"
      ],
      "metadata": {
        "id": "0ZYaSuDqKO9D"
      }
    },
    {
      "cell_type": "code",
      "execution_count": 5,
      "metadata": {
        "colab": {
          "base_uri": "https://localhost:8080/",
          "height": 81
        },
        "id": "wL96n3sY833C",
        "outputId": "c8bdf29a-2b68-47e2-f4fd-ad49bdf52086"
      },
      "outputs": [
        {
          "output_type": "execute_result",
          "data": {
            "text/plain": [
              "   area_total  area_util\n",
              "0        9186          0"
            ],
            "text/html": [
              "\n",
              "  <div id=\"df-b659c485-4b26-4855-afd9-cc1ac6dfa7e0\">\n",
              "    <div class=\"colab-df-container\">\n",
              "      <div>\n",
              "<style scoped>\n",
              "    .dataframe tbody tr th:only-of-type {\n",
              "        vertical-align: middle;\n",
              "    }\n",
              "\n",
              "    .dataframe tbody tr th {\n",
              "        vertical-align: top;\n",
              "    }\n",
              "\n",
              "    .dataframe thead th {\n",
              "        text-align: right;\n",
              "    }\n",
              "</style>\n",
              "<table border=\"1\" class=\"dataframe\">\n",
              "  <thead>\n",
              "    <tr style=\"text-align: right;\">\n",
              "      <th></th>\n",
              "      <th>area_total</th>\n",
              "      <th>area_util</th>\n",
              "    </tr>\n",
              "  </thead>\n",
              "  <tbody>\n",
              "    <tr>\n",
              "      <th>0</th>\n",
              "      <td>9186</td>\n",
              "      <td>0</td>\n",
              "    </tr>\n",
              "  </tbody>\n",
              "</table>\n",
              "</div>\n",
              "      <button class=\"colab-df-convert\" onclick=\"convertToInteractive('df-b659c485-4b26-4855-afd9-cc1ac6dfa7e0')\"\n",
              "              title=\"Convert this dataframe to an interactive table.\"\n",
              "              style=\"display:none;\">\n",
              "        \n",
              "  <svg xmlns=\"http://www.w3.org/2000/svg\" height=\"24px\"viewBox=\"0 0 24 24\"\n",
              "       width=\"24px\">\n",
              "    <path d=\"M0 0h24v24H0V0z\" fill=\"none\"/>\n",
              "    <path d=\"M18.56 5.44l.94 2.06.94-2.06 2.06-.94-2.06-.94-.94-2.06-.94 2.06-2.06.94zm-11 1L8.5 8.5l.94-2.06 2.06-.94-2.06-.94L8.5 2.5l-.94 2.06-2.06.94zm10 10l.94 2.06.94-2.06 2.06-.94-2.06-.94-.94-2.06-.94 2.06-2.06.94z\"/><path d=\"M17.41 7.96l-1.37-1.37c-.4-.4-.92-.59-1.43-.59-.52 0-1.04.2-1.43.59L10.3 9.45l-7.72 7.72c-.78.78-.78 2.05 0 2.83L4 21.41c.39.39.9.59 1.41.59.51 0 1.02-.2 1.41-.59l7.78-7.78 2.81-2.81c.8-.78.8-2.07 0-2.86zM5.41 20L4 18.59l7.72-7.72 1.47 1.35L5.41 20z\"/>\n",
              "  </svg>\n",
              "      </button>\n",
              "      \n",
              "  <style>\n",
              "    .colab-df-container {\n",
              "      display:flex;\n",
              "      flex-wrap:wrap;\n",
              "      gap: 12px;\n",
              "    }\n",
              "\n",
              "    .colab-df-convert {\n",
              "      background-color: #E8F0FE;\n",
              "      border: none;\n",
              "      border-radius: 50%;\n",
              "      cursor: pointer;\n",
              "      display: none;\n",
              "      fill: #1967D2;\n",
              "      height: 32px;\n",
              "      padding: 0 0 0 0;\n",
              "      width: 32px;\n",
              "    }\n",
              "\n",
              "    .colab-df-convert:hover {\n",
              "      background-color: #E2EBFA;\n",
              "      box-shadow: 0px 1px 2px rgba(60, 64, 67, 0.3), 0px 1px 3px 1px rgba(60, 64, 67, 0.15);\n",
              "      fill: #174EA6;\n",
              "    }\n",
              "\n",
              "    [theme=dark] .colab-df-convert {\n",
              "      background-color: #3B4455;\n",
              "      fill: #D2E3FC;\n",
              "    }\n",
              "\n",
              "    [theme=dark] .colab-df-convert:hover {\n",
              "      background-color: #434B5C;\n",
              "      box-shadow: 0px 1px 3px 1px rgba(0, 0, 0, 0.15);\n",
              "      filter: drop-shadow(0px 1px 2px rgba(0, 0, 0, 0.3));\n",
              "      fill: #FFFFFF;\n",
              "    }\n",
              "  </style>\n",
              "\n",
              "      <script>\n",
              "        const buttonEl =\n",
              "          document.querySelector('#df-b659c485-4b26-4855-afd9-cc1ac6dfa7e0 button.colab-df-convert');\n",
              "        buttonEl.style.display =\n",
              "          google.colab.kernel.accessAllowed ? 'block' : 'none';\n",
              "\n",
              "        async function convertToInteractive(key) {\n",
              "          const element = document.querySelector('#df-b659c485-4b26-4855-afd9-cc1ac6dfa7e0');\n",
              "          const dataTable =\n",
              "            await google.colab.kernel.invokeFunction('convertToInteractive',\n",
              "                                                     [key], {});\n",
              "          if (!dataTable) return;\n",
              "\n",
              "          const docLinkHtml = 'Like what you see? Visit the ' +\n",
              "            '<a target=\"_blank\" href=https://colab.research.google.com/notebooks/data_table.ipynb>data table notebook</a>'\n",
              "            + ' to learn more about interactive tables.';\n",
              "          element.innerHTML = '';\n",
              "          dataTable['output_type'] = 'display_data';\n",
              "          await google.colab.output.renderOutput(dataTable, element);\n",
              "          const docLink = document.createElement('div');\n",
              "          docLink.innerHTML = docLinkHtml;\n",
              "          element.appendChild(docLink);\n",
              "        }\n",
              "      </script>\n",
              "    </div>\n",
              "  </div>\n",
              "  "
            ]
          },
          "metadata": {},
          "execution_count": 5
        }
      ],
      "source": [
        "from pyspark.sql.functions import col,isnan,when,count\n",
        "df_Columns=[\"area_total\",\"area_util\"]\n",
        "dados.select([count(when(isnan(c) | col(c).isNull(), c)).alias(c) for c in df_Columns]\n",
        "   ).toPandas()\n",
        "#area total: 9186\n",
        "#area util: sem nulos"
      ]
    },
    {
      "cell_type": "markdown",
      "source": [
        "Contando numero de valores destintos em cada coluna e retirando valores com apenas um valor"
      ],
      "metadata": {
        "id": "qHPj5XIjJrHr"
      }
    },
    {
      "cell_type": "code",
      "execution_count": 6,
      "metadata": {
        "colab": {
          "base_uri": "https://localhost:8080/"
        },
        "id": "MhSZZWkN833C",
        "outputId": "76a4f948-fcb1-430d-9be3-0803684f1d72"
      },
      "outputs": [
        {
          "output_type": "stream",
          "name": "stdout",
          "text": [
            "Column<'id'> possui 66348 valor(es) diferente(s)\n",
            "Column<'andar'> possui 53 valor(es) diferente(s)\n",
            "Column<'quartos'> possui 14 valor(es) diferente(s)\n",
            "Column<'suites'> possui 14 valor(es) diferente(s)\n",
            "Column<'area_total'> possui 695 valor(es) diferente(s)\n",
            "Column<'area_util'> possui 592 valor(es) diferente(s)\n",
            "Column<'banheiros'> possui 18 valor(es) diferente(s)\n",
            "Column<'caracteristicas'> possui 6964 valor(es) diferente(s)\n",
            "Column<'bairro'> possui 154 valor(es) diferente(s)\n",
            "Column<'zona'> possui 5 valor(es) diferente(s)\n",
            "Column<'tipo_anuncio'> possui 1 valor(es) diferente(s)\n",
            "Column<'tipo_unidade'> possui 1 valor(es) diferente(s)\n",
            "Column<'tipo_uso'> possui 1 valor(es) diferente(s)\n",
            "Column<'vaga'> possui 42 valor(es) diferente(s)\n",
            "Column<'condominio'> possui 3345 valor(es) diferente(s)\n",
            "Column<'iptu'> possui 5113 valor(es) diferente(s)\n",
            "Column<'tipo'> possui 1 valor(es) diferente(s)\n",
            "Column<'valor'> possui 9743 valor(es) diferente(s)\n"
          ]
        }
      ],
      "source": [
        "for columns in dados:\n",
        "    uniquecount = dados.select(columns).distinct().count()\n",
        "    print(columns, 'possui', uniquecount, 'valor(es) diferente(s)')"
      ]
    },
    {
      "cell_type": "code",
      "execution_count": 7,
      "metadata": {
        "id": "5b1ZrwJq833C"
      },
      "outputs": [],
      "source": [
        "dadosregressao = dados.drop('pais', 'tipo_anuncio', 'tipo_unidade', 'tipo_uso', 'area_total', 'tipo')"
      ]
    },
    {
      "cell_type": "code",
      "source": [
        "dadosregressao.show(5)"
      ],
      "metadata": {
        "colab": {
          "base_uri": "https://localhost:8080/"
        },
        "id": "4XUiiJIzF5kw",
        "outputId": "48352853-ff6e-4ff0-e05a-d0c133e4d222"
      },
      "execution_count": 8,
      "outputs": [
        {
          "output_type": "stream",
          "name": "stdout",
          "text": [
            "+--------------------+-----+-------+------+---------+---------+--------------------+--------------------+----------+----+----------+----+-----+\n",
            "|                  id|andar|quartos|suites|area_util|banheiros|     caracteristicas|              bairro|      zona|vaga|condominio|iptu|valor|\n",
            "+--------------------+-----+-------+------+---------+---------+--------------------+--------------------+----------+----+----------+----+-----+\n",
            "|d2e3a3aa-09b5-45a...|    3|      2|  null|       43|        1|[Academia, Churra...|           Paciência|Zona Oeste|   1|       245|null|15000|\n",
            "|085bab2c-87ad-452...|    2|      2|  null|       42|        1|[Churrasqueira, P...|           Paciência|Zona Oeste|   1|         0|   0|15000|\n",
            "|18d22cbe-1b86-476...|    1|      2|  null|       41|        1|[Portaria 24h, Co...|           Guaratiba|Zona Oeste|   1|         0|   0|20000|\n",
            "|bed8a354-9317-442...|    3|      2|  null|       43|        1|[Churrasqueira, P...|              Cosmos|Zona Oeste|   0|       285|null|20000|\n",
            "|12a13315-d67f-48f...|    2|      2|  null|       43|        1|[Academia, Churra...|           Guaratiba|Zona Oeste|   1|       245|null|15000|\n",
            "|a2e6d7a5-0ff0-484...|    3|      2|     0|       43|        1|[Churrasqueira, P...|              Cosmos|Zona Oeste|   0|       285|null|20000|\n",
            "|a6e3173b-c950-4db...|    3|      2|  null|       43|        1|[Churrasqueira, P...|           Paciência|Zona Oeste|   1|       250|null|15000|\n",
            "|2e6e5dfb-206c-496...|    3|      2|     0|       43|        1|[Churrasqueira, P...|           Guaratiba|Zona Oeste|   1|       245|null|15000|\n",
            "|99f8d0f9-95a4-461...|    3|      2|     0|       43|        1|[Churrasqueira, P...|           Paciência|Zona Oeste|   1|       245|null|15000|\n",
            "|b3f44c1a-2d50-4d5...|    4|      2|  null|       43|        1|[Churrasqueira, P...|           Guaratiba|Zona Oeste|   1|       240|null|17999|\n",
            "|dc99d9e1-4c63-41f...|    0|      2|  null|       60|        1|[Condomínio fechado]|  Pedra de Guaratiba|Zona Oeste|   1|         0|   0|15000|\n",
            "|aa3606d8-8bcd-45e...|    1|      2|  null|       43|        1|[Churrasqueira, P...|              Cosmos|Zona Oeste|   1|       240|   0|19999|\n",
            "|df80b0d5-677c-4be...|    0|      2|     0|       43|        1|[Churrasqueira, P...|        Campo Grande|Zona Oeste|   0|       245|null|19999|\n",
            "|3d6c0218-9b7d-474...|    2|      2|  null|       43|        1|[Academia, Churra...|          Santa Cruz|Zona Oeste|   2|       290|null|25000|\n",
            "|304266cc-62d1-4ce...|    3|      2|  null|       43|        1|[Salão de festas,...|           Guaratiba|Zona Oeste|null|       285|null|29999|\n",
            "|111472a2-afa1-4a7...|    4|      2|     1|       55|        2|[Academia, Churra...|Recreio dos Bande...|Zona Oeste|   1|         0|   0|30000|\n",
            "|275c1589-6537-4bf...|    0|      2|     0|       45|        1|[Playground, Pisc...|              Cosmos|Zona Oeste|   1|      null|null|30000|\n",
            "|ab8f367f-7509-45c...|    5|      2|     0|       42|        1|[Condomínio fecha...|            Realengo|Zona Oeste|   0|       280|   0|25000|\n",
            "|e0a3d370-66dd-4f5...|    1|      2|  null|       43|        1|[Churrasqueira, P...|              Cosmos|Zona Oeste|   1|       280|null|27999|\n",
            "|09c8ba2d-dbf1-487...|    3|      2|     1|       55|        1|[Academia, Churra...|     Todos os Santos|Zona Norte|   1|         0|   0|26000|\n",
            "+--------------------+-----+-------+------+---------+---------+--------------------+--------------------+----------+----+----------+----+-----+\n",
            "only showing top 20 rows\n",
            "\n"
          ]
        }
      ]
    },
    {
      "cell_type": "markdown",
      "source": [
        "Convertendo \"andar\", \"banheiros\", \"suites\" e \"quartos\" para o tipo inteiro e \"area_util\", \"condominio\", \"iptu\" e \"valor\" para o tipo double."
      ],
      "metadata": {
        "id": "XuUjzmC7Ka3D"
      }
    },
    {
      "cell_type": "code",
      "execution_count": 9,
      "metadata": {
        "colab": {
          "base_uri": "https://localhost:8080/"
        },
        "id": "oAyYsdav833D",
        "outputId": "1355fabc-5dd0-473d-c213-279af453058b"
      },
      "outputs": [
        {
          "output_type": "stream",
          "name": "stdout",
          "text": [
            "root\n",
            " |-- id: string (nullable = true)\n",
            " |-- andar: integer (nullable = true)\n",
            " |-- quartos: integer (nullable = true)\n",
            " |-- suites: integer (nullable = true)\n",
            " |-- area_util: double (nullable = true)\n",
            " |-- banheiros: integer (nullable = true)\n",
            " |-- caracteristicas: array (nullable = true)\n",
            " |    |-- element: string (containsNull = true)\n",
            " |-- bairro: string (nullable = true)\n",
            " |-- zona: string (nullable = true)\n",
            " |-- vaga: integer (nullable = true)\n",
            " |-- condominio: double (nullable = true)\n",
            " |-- iptu: double (nullable = true)\n",
            " |-- valor: double (nullable = true)\n",
            "\n"
          ]
        }
      ],
      "source": [
        "dadosregressao = dadosregressao.withColumn('andar', dados['andar'].cast(IntegerType()))\\\n",
        ".withColumn('banheiros', dadosregressao['banheiros'].cast(IntegerType()))\\\n",
        ".withColumn('suites', dadosregressao['suites'].cast(IntegerType()))\\\n",
        ".withColumn('quartos', dadosregressao['quartos'].cast(IntegerType()))\\\n",
        ".withColumn('area_util', dadosregressao['area_util'].cast(DoubleType()))\\\n",
        ".withColumn('condominio', dadosregressao['condominio'].cast(DoubleType()))\\\n",
        ".withColumn('iptu', dadosregressao['iptu'].cast(DoubleType()))\\\n",
        ".withColumn('valor', dadosregressao['valor'].cast(DoubleType()))\n",
        "dadosregressao.printSchema()\n"
      ]
    },
    {
      "cell_type": "markdown",
      "source": [
        "Tratando dados nulos"
      ],
      "metadata": {
        "id": "6nexqXcKJN20"
      }
    },
    {
      "cell_type": "code",
      "execution_count": 10,
      "metadata": {
        "id": "9RvW1zaL833D"
      },
      "outputs": [],
      "source": [
        "dadosregressao = dadosregressao\\\n",
        "    .select('*')\\\n",
        "    .na\\\n",
        "    .fill(0)"
      ]
    },
    {
      "cell_type": "markdown",
      "source": [
        "Transformação de variáveis categóricas"
      ],
      "metadata": {
        "id": "6TE_MkUJJQus"
      }
    },
    {
      "cell_type": "code",
      "execution_count": 12,
      "metadata": {
        "id": "rblvmSp0833D",
        "colab": {
          "base_uri": "https://localhost:8080/"
        },
        "outputId": "c9620600-a2ca-41f0-9cb2-4712e4be197e"
      },
      "outputs": [
        {
          "output_type": "stream",
          "name": "stdout",
          "text": [
            "+--------------------+---+------------+----------+----------+--------+\n",
            "|                  id|   |Zona Central|Zona Norte|Zona Oeste|Zona Sul|\n",
            "+--------------------+---+------------+----------+----------+--------+\n",
            "|4e47e4d4-3326-4eb...|  0|           0|         0|         0|       1|\n",
            "|02fba6ef-a691-442...|  0|           0|         0|         1|       0|\n",
            "|fc03c1a9-8bbb-41a...|  0|           0|         1|         0|       0|\n",
            "|3dd5d200-0a7f-43d...|  0|           0|         0|         0|       1|\n",
            "+--------------------+---+------------+----------+----------+--------+\n",
            "only showing top 4 rows\n",
            "\n"
          ]
        }
      ],
      "source": [
        "from pyspark.sql import functions as f\n",
        "from pyspark.sql.functions import explode\n",
        "zona = dadosregressao\\\n",
        "    .groupBy(\"id\")\\\n",
        "    .pivot('zona')\\\n",
        "    .agg(f.lit(1))\\\n",
        "    .na\\\n",
        "    .fill(0)\n",
        "zona.show(4)"
      ]
    },
    {
      "cell_type": "code",
      "source": [
        "import pyspark.sql.functions as f\n",
        "dadosregressao.select(f.explode('caracteristicas')).distinct().show()\n",
        "\n",
        "lista_caracteristicas = ['condominio_fechado','playground','portao_eletronico','piscina','animais_permitidos',\\\n",
        "                         'portaria_24h','elevador','academia','salao_de_festas','churrasqueira']\n",
        "\n",
        "for coluna in lista_caracteristicas:\n",
        "  dadosregressao = dadosregressao.withColumn(coluna,f.when(f.array_contains(f.col(\"caracteristicas\"),coluna) == 'true',f.lit(1)).otherwise(0))\n",
        "\n",
        "dadosregressao.show(5,truncate=False)"
      ],
      "metadata": {
        "colab": {
          "base_uri": "https://localhost:8080/"
        },
        "id": "OghZZ_sgNSMD",
        "outputId": "e3a09572-6a8f-4c1c-cb97-7320cc5609f4"
      },
      "execution_count": 13,
      "outputs": [
        {
          "output_type": "stream",
          "name": "stdout",
          "text": [
            "+------------------+\n",
            "|               col|\n",
            "+------------------+\n",
            "|Condomínio fechado|\n",
            "|        Playground|\n",
            "| Portão eletrônico|\n",
            "|           Piscina|\n",
            "|Animais permitidos|\n",
            "|      Portaria 24h|\n",
            "|          Elevador|\n",
            "|          Academia|\n",
            "|   Salão de festas|\n",
            "|     Churrasqueira|\n",
            "+------------------+\n",
            "\n",
            "+------------------------------------+-----+-------+------+---------+---------+-------------------------------------------------------------------------------------------------------------------------------+---------+----------+----+----------+----+-------+------------------+----------+-----------------+-------+------------------+------------+--------+--------+---------------+-------------+\n",
            "|id                                  |andar|quartos|suites|area_util|banheiros|caracteristicas                                                                                                                |bairro   |zona      |vaga|condominio|iptu|valor  |condominio_fechado|playground|portao_eletronico|piscina|animais_permitidos|portaria_24h|elevador|academia|salao_de_festas|churrasqueira|\n",
            "+------------------------------------+-----+-------+------+---------+---------+-------------------------------------------------------------------------------------------------------------------------------+---------+----------+----+----------+----+-------+------------------+----------+-----------------+-------+------------------+------------+--------+--------+---------------+-------------+\n",
            "|d2e3a3aa-09b5-45a0-9dcd-918847cd3ca3|3    |2      |0     |43.0     |1        |[Academia, Churrasqueira, Playground, Salão de festas, Condomínio fechado, Portão eletrônico, Portaria 24h, Animais permitidos]|Paciência|Zona Oeste|1   |245.0     |0.0 |15000.0|0                 |0         |0                |0      |0                 |0           |0       |0       |0              |0            |\n",
            "|085bab2c-87ad-452a-bd0f-8b1451509f84|2    |2      |0     |42.0     |1        |[Churrasqueira, Playground, Salão de festas, Condomínio fechado, Portão eletrônico, Portaria 24h, Animais permitidos]          |Paciência|Zona Oeste|1   |0.0       |0.0 |15000.0|0                 |0         |0                |0      |0                 |0           |0       |0       |0              |0            |\n",
            "|18d22cbe-1b86-4764-8def-70c615f15a61|1    |2      |0     |41.0     |1        |[Portaria 24h, Condomínio fechado, Playground, Salão de festas, Churrasqueira, Portão eletrônico]                              |Guaratiba|Zona Oeste|1   |0.0       |0.0 |20000.0|0                 |0         |0                |0      |0                 |0           |0       |0       |0              |0            |\n",
            "|bed8a354-9317-4426-b27e-1c798f864271|3    |2      |0     |43.0     |1        |[Churrasqueira, Piscina, Playground, Salão de festas, Condomínio fechado, Portão eletrônico, Portaria 24h, Animais permitidos] |Cosmos   |Zona Oeste|0   |285.0     |0.0 |20000.0|0                 |0         |0                |0      |0                 |0           |0       |0       |0              |0            |\n",
            "|12a13315-d67f-48f0-9497-017b83252781|2    |2      |0     |43.0     |1        |[Academia, Churrasqueira, Playground, Salão de festas, Condomínio fechado, Portão eletrônico, Portaria 24h, Animais permitidos]|Guaratiba|Zona Oeste|1   |245.0     |0.0 |15000.0|0                 |0         |0                |0      |0                 |0           |0       |0       |0              |0            |\n",
            "+------------------------------------+-----+-------+------+---------+---------+-------------------------------------------------------------------------------------------------------------------------------+---------+----------+----+----------+----+-------+------------------+----------+-----------------+-------+------------------+------------+--------+--------+---------------+-------------+\n",
            "only showing top 5 rows\n",
            "\n"
          ]
        }
      ]
    },
    {
      "cell_type": "code",
      "source": [
        "bairro = dadosregressao\\\n",
        "    .groupBy(\"id\")\\\n",
        "    .pivot('bairro')\\\n",
        "    .agg(f.lit(1))\\\n",
        "    .na\\\n",
        "    .fill(0)\n",
        "bairro.show(5)"
      ],
      "metadata": {
        "id": "OMLDo8UUFNPe",
        "colab": {
          "base_uri": "https://localhost:8080/"
        },
        "outputId": "95b6f6d1-e85c-4ea6-dee8-94140769eb0b"
      },
      "execution_count": 14,
      "outputs": [
        {
          "output_type": "stream",
          "name": "stdout",
          "text": [
            "+--------------------+--------+-----------------+--------+-------+----+---------+-----+---------------+------------------+------------+-------+-------------+-------------+----------+--------+------------+--------+------+----+-------+--------+------------+-----------------+---------+------+-------+----------+------+-----------+--------------+------+-----------+-------+----------+--------+-----------+------+--------+------------+-------+---------+---------------+------------+-----------------+-----------------+----------------+-------+--------+------------------------------+-----------------------+------+------+-------------+------+------+----------+---------+---------+-----+------------+--------------+-------+-------+--------+-------+-----+---------+-----------+------+--------------+---------------+--------------+----------------+--------------+---+-----+-----------+------+----+-------------------+---------+----------------+---------+----------+--------+---------------+--------------+------+-----+------+------------+---------+------------+-------+---------------+---------------+---------------+----------------+------+---------+------------------+-----+--------------+-------+-------+------------+----------+-----------------+----------+-----------------+-----------------+-----+--------+------------------------+---------+-------+----------------------+------------+-----+-------------+-------+----------+------------+------------+----------+-----+--------------+-------------------+--------+-----------+-------------+--------------------+------+-------+----+------+---------------+------------+-------+----+-------------+--------------+-------------+--------+-------------------+-------+-------------+-----------+-----------+--------------+-------------+------------+-----+----------+\n",
            "|                  id|Abolição|Alto da Boa Vista|Anchieta|Andaraí|Anil|Bancários|Bangu|Barra da Tijuca|Barra de Guaratiba|Barros Filho|Benfica|Bento Ribeiro|Boa Esperança|Bonsucesso|Botafogo|Braz de Pina|Cachambi|Cacuia|Caju|Camorim|Campinho|Campo Grande|Campo dos Afonsos|Cascadura|Catete|Catumbi|Cavalcanti|Centro|Cidade Nova|Cidade de Deus|Cocotá|Coelho Neto|Colégio|Copacabana|Cordovil|Cosme Velho|Cosmos|Curicica|Del Castilho|Deodoro|Encantado|Engenheiro Leal|Engenho Novo|Engenho da Rainha|Engenho de Dentro|Engenho do Porto|Estácio|Flamengo|Freguesia (Ilha do Governador)|Freguesia (Jacarepaguá)|Galeão|Gamboa|Gardênia Azul|Glória|Grajaú|Grande Rio|Guadalupe|Guaratiba|Gávea|Higienópolis|Honório Gurgel|Humaitá|Inhaúma|Inhoaíba|Ipanema|Irajá|Itanhangá|Jacarepaguá|Jacaré|Jardim América|Jardim Botânico|Jardim Carioca|Jardim Guanabara|Jardim Sulacap|Joá|Lagoa|Laranjeiras|Leblon|Leme|Lins de Vasconcelos|Madureira|Magalhães Bastos|Mangueira|Manguinhos|Maracanã|Marechal Hermes|Maria da Graça|Moneró|Méier|Olaria|Oswaldo Cruz|Paciência|Padre Miguel|Paquetá|Parada de Lucas|Parque Anchieta|Parque Colúmbia|Parque da Matriz|Pavuna|Pechincha|Pedra de Guaratiba|Penha|Penha Circular|Piedade|Pilares|Pitangueiras|Portuguesa|Praia da Bandeira|Praça Seca|Praça da Bandeira|Quintino Bocaiúva|Ramos|Realengo|Recreio dos Bandeirantes|Riachuelo|Ribeira|Ricardo de Albuquerque|Rio Comprido|Rocha|Rocha Miranda|Sampaio|Santa Cruz|Santa Teresa|Santo Cristo|Santíssimo|Saúde|Senador Camará|Senador Vasconcelos|Sepetiba|São Conrado|São Cristóvão|São Francisco Xavier|Tanque|Taquara|Tauá|Tijuca|Todos os Santos|Tomás Coelho|Turiaçu|Urca|Vargem Grande|Vargem Pequena|Vasco da Gama|Vaz Lobo|Vicente de Carvalho|Vidigal|Vigário Geral|Vila Isabel|Vila Kosmos|Vila Valqueire|Vila da Penha|Vista Alegre|Zumbi|Água Santa|\n",
            "+--------------------+--------+-----------------+--------+-------+----+---------+-----+---------------+------------------+------------+-------+-------------+-------------+----------+--------+------------+--------+------+----+-------+--------+------------+-----------------+---------+------+-------+----------+------+-----------+--------------+------+-----------+-------+----------+--------+-----------+------+--------+------------+-------+---------+---------------+------------+-----------------+-----------------+----------------+-------+--------+------------------------------+-----------------------+------+------+-------------+------+------+----------+---------+---------+-----+------------+--------------+-------+-------+--------+-------+-----+---------+-----------+------+--------------+---------------+--------------+----------------+--------------+---+-----+-----------+------+----+-------------------+---------+----------------+---------+----------+--------+---------------+--------------+------+-----+------+------------+---------+------------+-------+---------------+---------------+---------------+----------------+------+---------+------------------+-----+--------------+-------+-------+------------+----------+-----------------+----------+-----------------+-----------------+-----+--------+------------------------+---------+-------+----------------------+------------+-----+-------------+-------+----------+------------+------------+----------+-----+--------------+-------------------+--------+-----------+-------------+--------------------+------+-------+----+------+---------------+------------+-------+----+-------------+--------------+-------------+--------+-------------------+-------+-------------+-----------+-----------+--------------+-------------+------------+-----+----------+\n",
            "|5af54707-b58f-448...|       0|                0|       0|      0|   0|        0|    0|              0|                 0|           0|      0|            0|            0|         0|       0|           0|       0|     0|   0|      0|       0|           0|                0|        0|     0|      0|         0|     0|          0|             0|     0|          0|      0|         0|       0|          0|     0|       0|           0|      0|        0|              0|           0|                0|                0|               0|      0|       0|                             0|                      0|     0|     0|            0|     0|     0|         0|        0|        0|    0|           0|             0|      0|      0|       0|      0|    0|        0|          0|     0|             0|              0|             0|               0|             0|  0|    0|          0|     0|   0|                  0|        0|               0|        0|         0|       0|              0|             0|     0|    1|     0|           0|        0|           0|      0|              0|              0|              0|               0|     0|        0|                 0|    0|             0|      0|      0|           0|         0|                0|         0|                0|                0|    0|       0|                       0|        0|      0|                     0|           0|    0|            0|      0|         0|           0|           0|         0|    0|             0|                  0|       0|          0|            0|                   0|     0|      0|   0|     0|              0|           0|      0|   0|            0|             0|            0|       0|                  0|      0|            0|          0|          0|             0|            0|           0|    0|         0|\n",
            "|70299fbf-2a15-4de...|       0|                0|       0|      0|   0|        0|    0|              0|                 0|           0|      0|            0|            0|         0|       1|           0|       0|     0|   0|      0|       0|           0|                0|        0|     0|      0|         0|     0|          0|             0|     0|          0|      0|         0|       0|          0|     0|       0|           0|      0|        0|              0|           0|                0|                0|               0|      0|       0|                             0|                      0|     0|     0|            0|     0|     0|         0|        0|        0|    0|           0|             0|      0|      0|       0|      0|    0|        0|          0|     0|             0|              0|             0|               0|             0|  0|    0|          0|     0|   0|                  0|        0|               0|        0|         0|       0|              0|             0|     0|    0|     0|           0|        0|           0|      0|              0|              0|              0|               0|     0|        0|                 0|    0|             0|      0|      0|           0|         0|                0|         0|                0|                0|    0|       0|                       0|        0|      0|                     0|           0|    0|            0|      0|         0|           0|           0|         0|    0|             0|                  0|       0|          0|            0|                   0|     0|      0|   0|     0|              0|           0|      0|   0|            0|             0|            0|       0|                  0|      0|            0|          0|          0|             0|            0|           0|    0|         0|\n",
            "|d8b1ea6f-4ed6-428...|       0|                0|       0|      0|   0|        0|    0|              0|                 0|           0|      0|            0|            0|         0|       0|           0|       0|     0|   0|      0|       0|           0|                0|        0|     0|      0|         0|     0|          0|             0|     0|          0|      0|         1|       0|          0|     0|       0|           0|      0|        0|              0|           0|                0|                0|               0|      0|       0|                             0|                      0|     0|     0|            0|     0|     0|         0|        0|        0|    0|           0|             0|      0|      0|       0|      0|    0|        0|          0|     0|             0|              0|             0|               0|             0|  0|    0|          0|     0|   0|                  0|        0|               0|        0|         0|       0|              0|             0|     0|    0|     0|           0|        0|           0|      0|              0|              0|              0|               0|     0|        0|                 0|    0|             0|      0|      0|           0|         0|                0|         0|                0|                0|    0|       0|                       0|        0|      0|                     0|           0|    0|            0|      0|         0|           0|           0|         0|    0|             0|                  0|       0|          0|            0|                   0|     0|      0|   0|     0|              0|           0|      0|   0|            0|             0|            0|       0|                  0|      0|            0|          0|          0|             0|            0|           0|    0|         0|\n",
            "|88536221-3b27-46a...|       0|                0|       0|      0|   0|        0|    0|              0|                 0|           0|      0|            0|            0|         0|       0|           0|       0|     0|   0|      0|       0|           0|                0|        0|     0|      0|         0|     0|          0|             0|     0|          0|      0|         0|       0|          0|     0|       0|           0|      0|        0|              0|           0|                0|                0|               0|      0|       0|                             0|                      0|     0|     0|            0|     0|     0|         0|        0|        0|    0|           0|             0|      0|      0|       0|      0|    0|        0|          0|     0|             0|              0|             0|               0|             0|  0|    0|          0|     0|   0|                  0|        0|               0|        0|         0|       0|              0|             0|     0|    0|     0|           0|        0|           0|      0|              0|              0|              0|               0|     0|        0|                 0|    0|             0|      0|      0|           0|         0|                0|         0|                0|                0|    0|       0|                       1|        0|      0|                     0|           0|    0|            0|      0|         0|           0|           0|         0|    0|             0|                  0|       0|          0|            0|                   0|     0|      0|   0|     0|              0|           0|      0|   0|            0|             0|            0|       0|                  0|      0|            0|          0|          0|             0|            0|           0|    0|         0|\n",
            "|f3f93bd5-c794-47d...|       0|                0|       0|      0|   0|        0|    0|              0|                 0|           0|      0|            0|            0|         0|       0|           0|       0|     0|   0|      0|       0|           0|                0|        0|     0|      0|         0|     0|          0|             0|     0|          0|      0|         0|       0|          0|     0|       0|           0|      0|        0|              0|           0|                0|                0|               0|      0|       0|                             0|                      0|     0|     0|            0|     0|     0|         0|        0|        0|    0|           0|             0|      0|      0|       0|      0|    0|        0|          0|     0|             0|              0|             0|               0|             0|  0|    1|          0|     0|   0|                  0|        0|               0|        0|         0|       0|              0|             0|     0|    0|     0|           0|        0|           0|      0|              0|              0|              0|               0|     0|        0|                 0|    0|             0|      0|      0|           0|         0|                0|         0|                0|                0|    0|       0|                       0|        0|      0|                     0|           0|    0|            0|      0|         0|           0|           0|         0|    0|             0|                  0|       0|          0|            0|                   0|     0|      0|   0|     0|              0|           0|      0|   0|            0|             0|            0|       0|                  0|      0|            0|          0|          0|             0|            0|           0|    0|         0|\n",
            "|8c4a3290-ce22-474...|       0|                0|       0|      0|   0|        0|    0|              0|                 0|           0|      0|            0|            0|         0|       0|           0|       0|     0|   0|      0|       0|           0|                0|        0|     0|      0|         0|     0|          0|             0|     0|          0|      0|         0|       0|          0|     0|       0|           0|      0|        0|              0|           0|                0|                0|               0|      0|       0|                             0|                      1|     0|     0|            0|     0|     0|         0|        0|        0|    0|           0|             0|      0|      0|       0|      0|    0|        0|          0|     0|             0|              0|             0|               0|             0|  0|    0|          0|     0|   0|                  0|        0|               0|        0|         0|       0|              0|             0|     0|    0|     0|           0|        0|           0|      0|              0|              0|              0|               0|     0|        0|                 0|    0|             0|      0|      0|           0|         0|                0|         0|                0|                0|    0|       0|                       0|        0|      0|                     0|           0|    0|            0|      0|         0|           0|           0|         0|    0|             0|                  0|       0|          0|            0|                   0|     0|      0|   0|     0|              0|           0|      0|   0|            0|             0|            0|       0|                  0|      0|            0|          0|          0|             0|            0|           0|    0|         0|\n",
            "|bfffedfe-99e7-4ae...|       0|                0|       0|      0|   0|        0|    0|              0|                 0|           0|      0|            0|            0|         0|       0|           0|       0|     0|   0|      0|       0|           0|                0|        0|     0|      0|         0|     0|          0|             0|     0|          0|      0|         0|       0|          0|     0|       0|           0|      0|        0|              0|           0|                0|                0|               0|      0|       0|                             0|                      0|     0|     0|            0|     0|     0|         0|        0|        0|    0|           0|             0|      0|      0|       0|      0|    0|        0|          0|     0|             0|              0|             0|               0|             0|  0|    0|          0|     0|   0|                  0|        0|               0|        0|         0|       0|              0|             0|     0|    0|     0|           0|        0|           0|      0|              0|              0|              0|               0|     0|        0|                 0|    0|             0|      0|      0|           0|         0|                0|         0|                0|                0|    0|       0|                       0|        0|      0|                     0|           0|    0|            0|      0|         0|           0|           0|         0|    0|             0|                  0|       0|          0|            0|                   0|     0|      0|   0|     0|              0|           0|      0|   0|            0|             0|            0|       0|                  0|      0|            0|          1|          0|             0|            0|           0|    0|         0|\n",
            "|818b7259-3f76-43c...|       0|                0|       0|      0|   0|        0|    0|              0|                 0|           0|      0|            0|            0|         0|       0|           0|       0|     0|   0|      0|       0|           0|                0|        0|     0|      0|         0|     0|          0|             0|     0|          0|      0|         0|       0|          0|     0|       0|           0|      0|        0|              0|           0|                0|                0|               0|      0|       0|                             0|                      0|     0|     0|            0|     0|     0|         0|        0|        0|    0|           0|             0|      0|      0|       0|      0|    0|        0|          0|     0|             0|              0|             0|               0|             0|  0|    0|          0|     0|   0|                  0|        0|               0|        0|         0|       0|              0|             0|     0|    0|     0|           0|        0|           0|      0|              0|              0|              0|               0|     0|        0|                 0|    0|             0|      0|      0|           0|         0|                0|         0|                0|                0|    0|       0|                       1|        0|      0|                     0|           0|    0|            0|      0|         0|           0|           0|         0|    0|             0|                  0|       0|          0|            0|                   0|     0|      0|   0|     0|              0|           0|      0|   0|            0|             0|            0|       0|                  0|      0|            0|          0|          0|             0|            0|           0|    0|         0|\n",
            "|107507e0-f075-47e...|       0|                0|       0|      0|   0|        0|    0|              0|                 0|           0|      0|            0|            0|         0|       0|           0|       0|     0|   0|      0|       0|           0|                0|        0|     0|      0|         0|     0|          0|             0|     0|          0|      0|         0|       0|          0|     0|       0|           0|      0|        0|              0|           0|                0|                0|               0|      0|       0|                             0|                      0|     0|     0|            0|     0|     0|         0|        0|        0|    0|           0|             0|      0|      0|       0|      0|    0|        0|          0|     0|             0|              0|             0|               0|             0|  0|    0|          0|     0|   0|                  0|        0|               0|        0|         0|       0|              0|             0|     0|    0|     0|           0|        0|           0|      0|              0|              0|              0|               0|     0|        0|                 0|    0|             0|      0|      0|           0|         0|                0|         0|                0|                0|    0|       0|                       1|        0|      0|                     0|           0|    0|            0|      0|         0|           0|           0|         0|    0|             0|                  0|       0|          0|            0|                   0|     0|      0|   0|     0|              0|           0|      0|   0|            0|             0|            0|       0|                  0|      0|            0|          0|          0|             0|            0|           0|    0|         0|\n",
            "|afecddff-f4cc-4ab...|       0|                0|       0|      0|   0|        0|    0|              0|                 0|           0|      0|            0|            0|         0|       1|           0|       0|     0|   0|      0|       0|           0|                0|        0|     0|      0|         0|     0|          0|             0|     0|          0|      0|         0|       0|          0|     0|       0|           0|      0|        0|              0|           0|                0|                0|               0|      0|       0|                             0|                      0|     0|     0|            0|     0|     0|         0|        0|        0|    0|           0|             0|      0|      0|       0|      0|    0|        0|          0|     0|             0|              0|             0|               0|             0|  0|    0|          0|     0|   0|                  0|        0|               0|        0|         0|       0|              0|             0|     0|    0|     0|           0|        0|           0|      0|              0|              0|              0|               0|     0|        0|                 0|    0|             0|      0|      0|           0|         0|                0|         0|                0|                0|    0|       0|                       0|        0|      0|                     0|           0|    0|            0|      0|         0|           0|           0|         0|    0|             0|                  0|       0|          0|            0|                   0|     0|      0|   0|     0|              0|           0|      0|   0|            0|             0|            0|       0|                  0|      0|            0|          0|          0|             0|            0|           0|    0|         0|\n",
            "|107afaf2-21d5-4d0...|       0|                0|       0|      0|   0|        0|    0|              0|                 0|           0|      0|            0|            0|         0|       0|           0|       0|     0|   0|      0|       0|           0|                0|        0|     0|      0|         0|     0|          0|             0|     0|          0|      0|         0|       0|          0|     0|       0|           0|      0|        0|              0|           0|                0|                0|               0|      0|       0|                             0|                      0|     0|     0|            0|     0|     0|         0|        0|        0|    0|           0|             0|      0|      0|       0|      0|    0|        0|          0|     0|             0|              0|             0|               0|             0|  0|    0|          1|     0|   0|                  0|        0|               0|        0|         0|       0|              0|             0|     0|    0|     0|           0|        0|           0|      0|              0|              0|              0|               0|     0|        0|                 0|    0|             0|      0|      0|           0|         0|                0|         0|                0|                0|    0|       0|                       0|        0|      0|                     0|           0|    0|            0|      0|         0|           0|           0|         0|    0|             0|                  0|       0|          0|            0|                   0|     0|      0|   0|     0|              0|           0|      0|   0|            0|             0|            0|       0|                  0|      0|            0|          0|          0|             0|            0|           0|    0|         0|\n",
            "|3d88afaf-26ca-457...|       0|                0|       0|      0|   0|        0|    0|              0|                 0|           0|      0|            0|            0|         0|       1|           0|       0|     0|   0|      0|       0|           0|                0|        0|     0|      0|         0|     0|          0|             0|     0|          0|      0|         0|       0|          0|     0|       0|           0|      0|        0|              0|           0|                0|                0|               0|      0|       0|                             0|                      0|     0|     0|            0|     0|     0|         0|        0|        0|    0|           0|             0|      0|      0|       0|      0|    0|        0|          0|     0|             0|              0|             0|               0|             0|  0|    0|          0|     0|   0|                  0|        0|               0|        0|         0|       0|              0|             0|     0|    0|     0|           0|        0|           0|      0|              0|              0|              0|               0|     0|        0|                 0|    0|             0|      0|      0|           0|         0|                0|         0|                0|                0|    0|       0|                       0|        0|      0|                     0|           0|    0|            0|      0|         0|           0|           0|         0|    0|             0|                  0|       0|          0|            0|                   0|     0|      0|   0|     0|              0|           0|      0|   0|            0|             0|            0|       0|                  0|      0|            0|          0|          0|             0|            0|           0|    0|         0|\n",
            "|37c269f2-8a47-442...|       0|                0|       0|      0|   0|        0|    0|              0|                 0|           0|      0|            0|            0|         0|       0|           0|       0|     0|   0|      0|       0|           0|                0|        0|     0|      0|         0|     0|          0|             0|     0|          0|      0|         0|       0|          0|     0|       0|           0|      0|        0|              0|           0|                0|                0|               0|      0|       0|                             0|                      0|     0|     0|            0|     0|     0|         0|        0|        0|    0|           0|             0|      0|      0|       0|      0|    0|        0|          0|     0|             0|              0|             0|               0|             0|  0|    0|          0|     0|   0|                  0|        0|               0|        0|         0|       0|              0|             0|     0|    0|     0|           0|        0|           0|      0|              0|              0|              0|               0|     0|        0|                 0|    0|             0|      0|      0|           0|         0|                0|         0|                0|                0|    0|       0|                       1|        0|      0|                     0|           0|    0|            0|      0|         0|           0|           0|         0|    0|             0|                  0|       0|          0|            0|                   0|     0|      0|   0|     0|              0|           0|      0|   0|            0|             0|            0|       0|                  0|      0|            0|          0|          0|             0|            0|           0|    0|         0|\n",
            "|a6ab01ae-3d40-40e...|       0|                0|       0|      0|   0|        0|    0|              0|                 0|           0|      0|            0|            0|         0|       0|           0|       0|     0|   0|      0|       0|           0|                0|        0|     0|      0|         0|     0|          0|             0|     0|          0|      0|         0|       0|          0|     0|       0|           0|      0|        0|              0|           0|                0|                0|               0|      0|       0|                             0|                      0|     0|     0|            0|     0|     0|         0|        0|        0|    0|           0|             0|      0|      0|       0|      0|    0|        0|          0|     0|             0|              0|             0|               0|             0|  0|    0|          0|     0|   0|                  0|        0|               0|        0|         0|       0|              0|             0|     0|    0|     0|           0|        0|           0|      0|              0|              0|              0|               0|     0|        0|                 0|    0|             0|      0|      0|           0|         0|                0|         0|                0|                0|    0|       0|                       0|        0|      0|                     0|           0|    0|            0|      0|         0|           0|           0|         0|    0|             0|                  0|       0|          0|            0|                   0|     0|      0|   0|     0|              0|           1|      0|   0|            0|             0|            0|       0|                  0|      0|            0|          0|          0|             0|            0|           0|    0|         0|\n",
            "|0e7f7703-c27b-4ac...|       0|                0|       0|      0|   0|        0|    0|              0|                 0|           0|      0|            0|            0|         0|       0|           0|       0|     0|   0|      0|       0|           0|                0|        0|     0|      0|         0|     0|          0|             0|     0|          0|      0|         0|       0|          0|     0|       0|           0|      0|        0|              0|           0|                0|                0|               0|      0|       0|                             0|                      0|     0|     0|            0|     0|     0|         0|        0|        0|    0|           0|             0|      0|      0|       0|      0|    0|        0|          1|     0|             0|              0|             0|               0|             0|  0|    0|          0|     0|   0|                  0|        0|               0|        0|         0|       0|              0|             0|     0|    0|     0|           0|        0|           0|      0|              0|              0|              0|               0|     0|        0|                 0|    0|             0|      0|      0|           0|         0|                0|         0|                0|                0|    0|       0|                       0|        0|      0|                     0|           0|    0|            0|      0|         0|           0|           0|         0|    0|             0|                  0|       0|          0|            0|                   0|     0|      0|   0|     0|              0|           0|      0|   0|            0|             0|            0|       0|                  0|      0|            0|          0|          0|             0|            0|           0|    0|         0|\n",
            "|5b0a5333-e255-4a3...|       0|                0|       0|      0|   0|        0|    0|              0|                 0|           0|      0|            0|            0|         0|       0|           0|       0|     0|   0|      0|       0|           0|                0|        0|     0|      0|         0|     0|          0|             0|     0|          0|      0|         0|       0|          0|     0|       0|           0|      0|        0|              0|           0|                0|                0|               0|      0|       0|                             0|                      0|     0|     0|            0|     0|     0|         0|        0|        0|    0|           0|             0|      0|      0|       0|      0|    0|        0|          0|     0|             0|              0|             0|               0|             0|  0|    0|          0|     0|   0|                  0|        0|               0|        0|         0|       0|              0|             0|     0|    0|     0|           0|        0|           0|      0|              0|              0|              0|               0|     0|        0|                 0|    0|             0|      0|      0|           0|         0|                0|         0|                0|                0|    0|       0|                       0|        0|      0|                     0|           0|    0|            0|      0|         0|           0|           0|         0|    0|             0|                  0|       0|          0|            0|                   0|     0|      0|   0|     1|              0|           0|      0|   0|            0|             0|            0|       0|                  0|      0|            0|          0|          0|             0|            0|           0|    0|         0|\n",
            "|e6712240-7fcf-4df...|       0|                0|       0|      0|   0|        0|    0|              0|                 0|           0|      0|            0|            0|         0|       0|           0|       0|     0|   0|      0|       0|           0|                0|        0|     0|      0|         0|     0|          0|             0|     0|          0|      0|         0|       0|          0|     0|       0|           0|      0|        0|              0|           0|                0|                0|               0|      0|       0|                             0|                      0|     0|     0|            0|     0|     0|         0|        0|        0|    0|           0|             0|      1|      0|       0|      0|    0|        0|          0|     0|             0|              0|             0|               0|             0|  0|    0|          0|     0|   0|                  0|        0|               0|        0|         0|       0|              0|             0|     0|    0|     0|           0|        0|           0|      0|              0|              0|              0|               0|     0|        0|                 0|    0|             0|      0|      0|           0|         0|                0|         0|                0|                0|    0|       0|                       0|        0|      0|                     0|           0|    0|            0|      0|         0|           0|           0|         0|    0|             0|                  0|       0|          0|            0|                   0|     0|      0|   0|     0|              0|           0|      0|   0|            0|             0|            0|       0|                  0|      0|            0|          0|          0|             0|            0|           0|    0|         0|\n",
            "|4ec8a236-f237-42d...|       0|                0|       0|      0|   0|        0|    0|              0|                 0|           0|      0|            0|            0|         0|       0|           0|       0|     0|   0|      0|       0|           0|                0|        0|     0|      0|         0|     0|          0|             0|     0|          0|      0|         0|       0|          0|     0|       0|           0|      0|        0|              0|           0|                0|                0|               0|      0|       0|                             0|                      0|     0|     0|            0|     0|     0|         0|        0|        0|    0|           0|             0|      0|      0|       0|      0|    0|        0|          0|     0|             0|              0|             0|               0|             0|  0|    1|          0|     0|   0|                  0|        0|               0|        0|         0|       0|              0|             0|     0|    0|     0|           0|        0|           0|      0|              0|              0|              0|               0|     0|        0|                 0|    0|             0|      0|      0|           0|         0|                0|         0|                0|                0|    0|       0|                       0|        0|      0|                     0|           0|    0|            0|      0|         0|           0|           0|         0|    0|             0|                  0|       0|          0|            0|                   0|     0|      0|   0|     0|              0|           0|      0|   0|            0|             0|            0|       0|                  0|      0|            0|          0|          0|             0|            0|           0|    0|         0|\n",
            "|ece1e671-cb4d-48a...|       0|                0|       0|      0|   0|        0|    0|              0|                 0|           0|      0|            0|            0|         0|       0|           0|       0|     0|   0|      0|       0|           0|                0|        0|     0|      0|         0|     1|          0|             0|     0|          0|      0|         0|       0|          0|     0|       0|           0|      0|        0|              0|           0|                0|                0|               0|      0|       0|                             0|                      0|     0|     0|            0|     0|     0|         0|        0|        0|    0|           0|             0|      0|      0|       0|      0|    0|        0|          0|     0|             0|              0|             0|               0|             0|  0|    0|          0|     0|   0|                  0|        0|               0|        0|         0|       0|              0|             0|     0|    0|     0|           0|        0|           0|      0|              0|              0|              0|               0|     0|        0|                 0|    0|             0|      0|      0|           0|         0|                0|         0|                0|                0|    0|       0|                       0|        0|      0|                     0|           0|    0|            0|      0|         0|           0|           0|         0|    0|             0|                  0|       0|          0|            0|                   0|     0|      0|   0|     0|              0|           0|      0|   0|            0|             0|            0|       0|                  0|      0|            0|          0|          0|             0|            0|           0|    0|         0|\n",
            "|5901ad58-27a4-4dc...|       0|                0|       0|      0|   0|        0|    0|              0|                 0|           0|      0|            0|            0|         0|       0|           0|       0|     0|   0|      0|       0|           0|                0|        0|     0|      0|         0|     0|          0|             0|     0|          0|      0|         0|       0|          0|     0|       0|           0|      0|        0|              0|           0|                0|                0|               0|      0|       0|                             0|                      0|     0|     0|            0|     0|     0|         0|        0|        0|    0|           0|             0|      0|      0|       0|      0|    0|        0|          0|     0|             0|              0|             0|               0|             0|  0|    0|          0|     0|   0|                  0|        0|               0|        0|         0|       0|              0|             0|     0|    0|     0|           0|        0|           0|      0|              0|              0|              0|               0|     0|        0|                 0|    0|             0|      0|      0|           0|         0|                0|         0|                0|                0|    0|       0|                       1|        0|      0|                     0|           0|    0|            0|      0|         0|           0|           0|         0|    0|             0|                  0|       0|          0|            0|                   0|     0|      0|   0|     0|              0|           0|      0|   0|            0|             0|            0|       0|                  0|      0|            0|          0|          0|             0|            0|           0|    0|         0|\n",
            "+--------------------+--------+-----------------+--------+-------+----+---------+-----+---------------+------------------+------------+-------+-------------+-------------+----------+--------+------------+--------+------+----+-------+--------+------------+-----------------+---------+------+-------+----------+------+-----------+--------------+------+-----------+-------+----------+--------+-----------+------+--------+------------+-------+---------+---------------+------------+-----------------+-----------------+----------------+-------+--------+------------------------------+-----------------------+------+------+-------------+------+------+----------+---------+---------+-----+------------+--------------+-------+-------+--------+-------+-----+---------+-----------+------+--------------+---------------+--------------+----------------+--------------+---+-----+-----------+------+----+-------------------+---------+----------------+---------+----------+--------+---------------+--------------+------+-----+------+------------+---------+------------+-------+---------------+---------------+---------------+----------------+------+---------+------------------+-----+--------------+-------+-------+------------+----------+-----------------+----------+-----------------+-----------------+-----+--------+------------------------+---------+-------+----------------------+------------+-----+-------------+-------+----------+------------+------------+----------+-----+--------------+-------------------+--------+-----------+-------------+--------------------+------+-------+----+------+---------------+------------+-------+----+-------------+--------------+-------------+--------+-------------------+-------+-------------+-----------+-----------+--------------+-------------+------------+-----+----------+\n",
            "only showing top 20 rows\n",
            "\n"
          ]
        }
      ]
    },
    {
      "cell_type": "code",
      "source": [
        "dadosregressao = dadosregressao\\\n",
        "    .join(zona, 'id', how='inner')"
      ],
      "metadata": {
        "id": "n6eQUb2aIjDF"
      },
      "execution_count": 15,
      "outputs": []
    },
    {
      "cell_type": "markdown",
      "source": [
        "Salvando dados"
      ],
      "metadata": {
        "id": "IDarFgN-JFzY"
      }
    },
    {
      "cell_type": "code",
      "source": [
        "dadosregressao.write.parquet('/content/drive/MyDrive/dadossemana2',  mode = 'overwrite')"
      ],
      "metadata": {
        "id": "7X37iQXzIyA3"
      },
      "execution_count": 16,
      "outputs": []
    },
    {
      "cell_type": "markdown",
      "source": [
        "Vetorização"
      ],
      "metadata": {
        "id": "m_WcrWUDI9eE"
      }
    },
    {
      "cell_type": "code",
      "source": [
        "from pyspark.ml.feature import VectorAssembler\n",
        "dadosml = dadosregressao.withColumnRenamed('valor','label')\n",
        "X =['andar',\n",
        " 'area_util',\n",
        " 'banheiros',\n",
        " 'quartos',\n",
        " 'suites',\n",
        " 'vaga',\n",
        " 'condominio',\n",
        " 'iptu',\n",
        " 'condominio_fechado',\n",
        " 'playground',\n",
        " 'portao_eletronico',\n",
        " 'piscina',\n",
        " 'animais_permitidos',\n",
        " 'portaria_24h',\n",
        " 'elevador',\n",
        " 'academia',\n",
        " 'salao_de_festas',\n",
        " 'churrasqueira',\n",
        " 'Zona Norte',\n",
        " 'Zona Oeste',\n",
        " 'Zona Central',\n",
        " 'Zona Sul']\n",
        "assembler = VectorAssembler(inputCols = X, outputCol = 'features')\n",
        "dataset_prep = assembler.transform(dadosml).select('features', 'label')\n",
        "dataset_prep.show(5, truncate=False)"
      ],
      "metadata": {
        "colab": {
          "base_uri": "https://localhost:8080/"
        },
        "id": "nFmaf79uIrAg",
        "outputId": "89889187-8082-4121-a860-f783e99f4c30"
      },
      "execution_count": 17,
      "outputs": [
        {
          "output_type": "stream",
          "name": "stdout",
          "text": [
            "+-------------------------------------------------------------------+---------+\n",
            "|features                                                           |label    |\n",
            "+-------------------------------------------------------------------+---------+\n",
            "|(22,[1,2,3,4,6,7,21],[90.0,2.0,3.0,1.0,950.0,2677.0,1.0])          |949020.0 |\n",
            "|(22,[0,1,2,3,4,5,6,7,19],[3.0,64.0,1.0,2.0,2.0,1.0,784.0,80.0,1.0])|380000.0 |\n",
            "|(22,[1,2,3,4,5,6,7,18],[82.0,2.0,3.0,1.0,1.0,1515.0,133.0,1.0])    |580000.0 |\n",
            "|(22,[1,2,3,4,5,6,7,21],[170.0,3.0,4.0,1.0,1.0,2250.0,3000.0,1.0])  |1450000.0|\n",
            "|(22,[1,2,3,4,5,6,7,21],[525.0,4.0,4.0,2.0,2.0,5000.0,2100.0,1.0])  |5199000.0|\n",
            "+-------------------------------------------------------------------+---------+\n",
            "only showing top 5 rows\n",
            "\n"
          ]
        }
      ]
    },
    {
      "cell_type": "markdown",
      "source": [
        "Modelo de regressão"
      ],
      "metadata": {
        "id": "R1xR8RwtIkLF"
      }
    },
    {
      "cell_type": "code",
      "source": [
        "from pyspark.ml.regression import LinearRegression\n",
        "treino, teste = dataset_prep.randomSplit([0.7, 0.3], seed=101)\n",
        "lr = LinearRegression()\n",
        "modelo_lr = lr.fit(treino)  \n",
        "previsoes_lr_treino = modelo_lr.transform(treino)\n",
        "previsoes_lr_treino.show(5)"
      ],
      "metadata": {
        "colab": {
          "base_uri": "https://localhost:8080/"
        },
        "id": "S3-MRn8QIP2W",
        "outputId": "46202aa5-b0f3-47ce-9fa6-5c3b3b2009c7"
      },
      "execution_count": 18,
      "outputs": [
        {
          "output_type": "stream",
          "name": "stdout",
          "text": [
            "+--------------------+--------+------------------+\n",
            "|            features|   label|        prediction|\n",
            "+--------------------+--------+------------------+\n",
            "|(22,[0,1,2,3,4,5,...|299000.0|147498.15521413766|\n",
            "|(22,[0,1,2,3,4,5,...|330000.0|157485.22832115603|\n",
            "|(22,[0,1,2,3,4,5,...| 99000.0|207536.31435300587|\n",
            "|(22,[0,1,2,3,4,5,...|329000.0|238120.23904680964|\n",
            "|(22,[0,1,2,3,4,5,...|369500.0| 285783.2267945643|\n",
            "+--------------------+--------+------------------+\n",
            "only showing top 5 rows\n",
            "\n"
          ]
        }
      ]
    },
    {
      "cell_type": "markdown",
      "source": [
        "Métricas"
      ],
      "metadata": {
        "id": "_OVIlAJLIiA4"
      }
    },
    {
      "cell_type": "code",
      "source": [
        "resumo_treino = modelo_lr.summary\n",
        "resumo_teste = modelo_lr.evaluate(teste)\n",
        "r2_lr_tre = resumo_treino.r2\n",
        "rmse_lr_tre = resumo_treino.rootMeanSquaredError\n",
        "r2_lr_tes = resumo_teste.r2\n",
        "rmse_lr_tes =  resumo_teste.rootMeanSquaredError\n",
        "print('R² treino :', r2_lr_tre)\n",
        "print('RMSE treino :', rmse_lr_tre)\n",
        "print('R² teste :', r2_lr_tes)\n",
        "print('RMSE teste :', rmse_lr_tes)"
      ],
      "metadata": {
        "colab": {
          "base_uri": "https://localhost:8080/"
        },
        "id": "5KeRD9BfVO0F",
        "outputId": "bc6f9c8d-b1a7-42c2-cf52-ab918c51e491"
      },
      "execution_count": 19,
      "outputs": [
        {
          "output_type": "stream",
          "name": "stdout",
          "text": [
            "R² treino : 0.6680852828272495\n",
            "RMSE treino : 844163.0879653998\n",
            "R² teste : 0.6451284732928633\n",
            "RMSE teste : 881823.6837181106\n"
          ]
        }
      ]
    },
    {
      "cell_type": "markdown",
      "source": [
        "Gradient-boosted tree regression"
      ],
      "metadata": {
        "id": "oUxan4h3DqKA"
      }
    },
    {
      "cell_type": "code",
      "source": [
        "from pyspark.ml.evaluation import RegressionEvaluator\n",
        "from pyspark.ml.regression import GBTRegressor\n",
        "\n",
        "df = assembler.transform(dadosml).select('features', 'label')\n",
        "gbt = GBTRegressor(featuresCol='features', labelCol='label', maxIter=15)\n",
        "gbt.setMaxIter(5)\n",
        "gbt.setMinWeightFractionPerNode(0.049)\n",
        "model = gbt.fit(treino)\n",
        "predic_gbt = model.transform(treino)\n",
        "\n",
        "rmse=RegressionEvaluator(labelCol=\"label\", predictionCol=\"prediction\", metricName=\"rmse\")\n",
        "rmse=rmse.evaluate(predic_gbt) \n",
        "r2=RegressionEvaluator(labelCol=\"label\", predictionCol=\"prediction\", metricName=\"r2\")\n",
        "r2=r2.evaluate(predic_gbt)\n",
        "\n",
        "print('R² GBT :', r2)\n",
        "print('RMSE GBT :', rmse)"
      ],
      "metadata": {
        "colab": {
          "base_uri": "https://localhost:8080/"
        },
        "id": "cDHZ2dbu-_AS",
        "outputId": "b9295fc1-8c4a-4c91-8138-89552c45044e"
      },
      "execution_count": 20,
      "outputs": [
        {
          "output_type": "stream",
          "name": "stdout",
          "text": [
            "R² GBT : 0.6563526677794409\n",
            "RMSE GBT : 858953.3776642409\n"
          ]
        }
      ]
    },
    {
      "cell_type": "markdown",
      "source": [
        "Cross Validation"
      ],
      "metadata": {
        "id": "XXIfkgrRHPTc"
      }
    },
    {
      "cell_type": "code",
      "source": [
        "from pyspark.ml.evaluation import BinaryClassificationEvaluator\n",
        "from pyspark.ml.tuning import CrossValidator, ParamGridBuilder, CrossValidatorModel\n",
        "import numpy as np\n",
        "paramGrid = ParamGridBuilder() \\\n",
        "    .addGrid(lr.regParam, [0, 0.01, 0.05, 0.1, 0.5, 1]) \\\n",
        "    .addGrid(lr.elasticNetParam, [0.0, 0.1, 0.5, 0.8, 1]) \\\n",
        "    .build()\n",
        "evaluator = BinaryClassificationEvaluator()\n",
        "#cv = CrossValidator(estimator=lr, estimatorParamMaps=grid, evaluator=evaluator)\n",
        "cv = CrossValidator(estimator=lr,\n",
        "                          estimatorParamMaps=paramGrid,\n",
        "                          evaluator=RegressionEvaluator(),\n",
        "                          numFolds=2)\n",
        "cv_model = cv.fit(treino)\n",
        "best_model = cv_model.bestModel\n",
        "\n",
        "resumo_treino = best_model.summary\n",
        "resumo_teste = best_model.evaluate(teste)\n",
        "r2_lr_tre = resumo_treino.r2\n",
        "rmse_lr_tre = resumo_treino.rootMeanSquaredError\n",
        "r2_lr_tes = resumo_teste.r2\n",
        "rmse_lr_tes =  resumo_teste.rootMeanSquaredError\n",
        "print('R² treino :', r2_lr_tre)\n",
        "print('RMSE treino :', rmse_lr_tre)\n",
        "print('R² teste :', r2_lr_tes)\n",
        "print('RMSE teste :', rmse_lr_tes)\n",
        "\n",
        "#print(cv_model.getEstimatorParamMaps()[np.argmax(cv_model.avgMetrics)])\n"
      ],
      "metadata": {
        "colab": {
          "base_uri": "https://localhost:8080/"
        },
        "id": "BTo_iABt3YpK",
        "outputId": "a4b3a79f-0e0a-49b7-adba-c1d80bc72719"
      },
      "execution_count": 21,
      "outputs": [
        {
          "output_type": "stream",
          "name": "stdout",
          "text": [
            "R² treino : 0.6680852798876346\n",
            "RMSE treino : 844163.0917035808\n",
            "R² teste : 0.6451284279625111\n",
            "RMSE teste : 881823.7400390236\n"
          ]
        }
      ]
    },
    {
      "cell_type": "markdown",
      "source": [
        "Análise de correlação"
      ],
      "metadata": {
        "id": "A79DDhZ-GvLH"
      }
    },
    {
      "cell_type": "code",
      "source": [
        "from pyspark.ml.stat import Correlation\n",
        "import pandas as pd\n",
        "import matplotlib.pyplot as plt\n",
        "import seaborn as sns\n",
        "\n",
        "correlacao = Correlation.corr(dataset_prep, 'features').collect()[0][0]\n",
        "dataframe_correlacao = pd.DataFrame(correlacao.toArray(), columns=X, index=X)\n",
        "plt.figure(figsize=(12,10))\n",
        "paleta = sns.color_palette(\"light:salmon\", as_cmap=True)\n",
        "sns.heatmap(dataframe_correlacao.round(1), annot=True, cmap=paleta)"
      ],
      "metadata": {
        "colab": {
          "base_uri": "https://localhost:8080/",
          "height": 706
        },
        "id": "lefe19vhFnw_",
        "outputId": "4a4ab9ef-05aa-4a10-cab1-780767c67f45"
      },
      "execution_count": 22,
      "outputs": [
        {
          "output_type": "execute_result",
          "data": {
            "text/plain": [
              "<matplotlib.axes._subplots.AxesSubplot at 0x7f05e1c511f0>"
            ]
          },
          "metadata": {},
          "execution_count": 22
        },
        {
          "output_type": "display_data",
          "data": {
            "text/plain": [
              "<Figure size 864x720 with 2 Axes>"
            ],
            "image/png": "[encoded data removed]"
          },
          "metadata": {
            "needs_background": "light"
          }
        }
      ]
    }
  ],
  "metadata": {
    "kernelspec": {
      "display_name": "Python 3.10.4 ('alura_pandas')",
      "language": "python",
      "name": "python3"
    },
    "language_info": {
      "codemirror_mode": {
        "name": "ipython",
        "version": 3
      },
      "file_extension": ".py",
      "mimetype": "text/x-python",
      "name": "python",
      "nbconvert_exporter": "python",
      "pygments_lexer": "ipython3",
      "version": "3.10.4"
    },
    "orig_nbformat": 4,
    "vscode": {
      "interpreter": {
        "hash": "cc25764565693f4510cf982fe1b9e6a6e9c2e5ed54d2a5002f3632aa61eac7d7"
      }
    },
    "colab": {
      "provenance": [],
      "include_colab_link": true
    }
  },
  "nbformat": 4,
  "nbformat_minor": 0
}